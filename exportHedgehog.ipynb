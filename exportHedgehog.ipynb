{
 "cells": [
  {
   "cell_type": "code",
   "execution_count": 42,
   "metadata": {},
   "outputs": [],
   "source": [
    "import json\n",
    "import numpy as np\n",
    "import pandas as pd\n",
    "import hedgehog as hg\n",
    "import importlib\n",
    "from datetime import datetime\n",
    "importlib.reload(hg);\n"
   ]
  },
  {
   "cell_type": "markdown",
   "metadata": {},
   "source": [
    "# Choose the year, important!!"
   ]
  },
  {
   "cell_type": "code",
   "execution_count": 43,
   "metadata": {},
   "outputs": [],
   "source": [
    "# Type the location of the json files exported from mongoexport\n",
    "myhedgehog=hg.Hedgehog(\"/home/leslie/Documents/\")\n",
    "# CHOOSE A YEAR!!!\n",
    "myhedgehog.year=2021\n",
    "\n",
    "dateregex=\"%Y-%m-%dT%H:%M:%SZ\""
   ]
  },
  {
   "cell_type": "code",
   "execution_count": 44,
   "metadata": {},
   "outputs": [
    {
     "data": {
      "text/plain": [
       "138"
      ]
     },
     "execution_count": 44,
     "metadata": {},
     "output_type": "execute_result"
    }
   ],
   "source": [
    "len(myhedgehog.projects)"
   ]
  },
  {
   "cell_type": "markdown",
   "metadata": {},
   "source": [
    "## Now I will go through all the projects, activities, theses and courses\n",
    "and leave only those of the relevant year"
   ]
  },
  {
   "cell_type": "code",
   "execution_count": 45,
   "metadata": {},
   "outputs": [
    {
     "name": "stdout",
     "output_type": "stream",
     "text": [
      "there were 1 problems.\n"
     ]
    }
   ],
   "source": [
    "projects=[]\n",
    "probprojs=[]\n",
    "for p in myhedgehog.projects:\n",
    "    #print(p[\"begindate\"]['$date'])\n",
    "    try:\n",
    "        year=datetime.strptime(p[\"begindate\"]['$date'],dateregex).year\n",
    "        if year==myhedgehog.year:\n",
    "            projects.append(p)\n",
    "    except:\n",
    "        probprojs.append(p)\n",
    "        \n",
    "#myhedgehog.projects=projects\n",
    "\n",
    "if(len(probprojs)>0):\n",
    "        print(f\"there were {len(probprojs)} problems.\")\n"
   ]
  },
  {
   "cell_type": "code",
   "execution_count": 46,
   "metadata": {},
   "outputs": [],
   "source": [
    "activities=[]\n",
    "probacts=[]\n",
    "for a in myhedgehog.activities:\n",
    "    #print(p[\"begindate\"]['$date'])\n",
    "    try:\n",
    "        year=datetime.strptime(a[\"begindate\"]['$date'],dateregex).year\n",
    "        if year==myhedgehog.year:\n",
    "            activities.append(a)\n",
    "    except:\n",
    "        probacts.append(a)\n",
    "\n",
    "#myhedgehog.activities=activities\n",
    "\n",
    "if(len(probacts)>0):\n",
    "    print(f\"there were {len(probacts)} problems.\")"
   ]
  },
  {
   "cell_type": "code",
   "execution_count": 47,
   "metadata": {},
   "outputs": [],
   "source": [
    "theses=[]\n",
    "probtheses=[]\n",
    "for t in myhedgehog.theses:\n",
    "    #print(p[\"begindate\"]['$date'])\n",
    "    try:\n",
    "        year=datetime.strptime(t[\"defensedate\"]['$date'],dateregex).year\n",
    "        if year==myhedgehog.year:\n",
    "            theses.append(t)\n",
    "    except:\n",
    "        probtheses.append(t)\n",
    "\n",
    "#myhedgehog.activities=activities\n",
    "\n",
    "if(len(probtheses)>0):\n",
    "    print(f\"there were {len(probtheses)} problems.\")"
   ]
  },
  {
   "cell_type": "code",
   "execution_count": 50,
   "metadata": {},
   "outputs": [],
   "source": [
    "courses=[]\n",
    "probcourses=[]\n",
    "for c in myhedgehog.courses:\n",
    "    #print(p[\"begindate\"]['$date'])\n",
    "    try:\n",
    "        year=datetime.strptime(c[\"begindate\"]['$date'],dateregex).year\n",
    "        if year==myhedgehog.year:\n",
    "            courses.append(c)\n",
    "    except:\n",
    "        probcourses.append(c)\n",
    "\n",
    "#myhedgehog.activities=activities\n",
    "\n",
    "if(len(probcourses)>0):\n",
    "    print(f\"there were {len(probcourses)} problems.\")"
   ]
  },
  {
   "cell_type": "code",
   "execution_count": 51,
   "metadata": {},
   "outputs": [
    {
     "data": {
      "text/plain": [
       "[{'_id': {'$oid': '620e60ea28f0159695ab6c73'},\n",
       "  'title': 'Introduction to Image Analysis',\n",
       "  'type': 'master',\n",
       "  'maininternalteachers': ['613f0fd8024f5ec83cd64325'],\n",
       "  'mainexternalteachers': [],\n",
       "  'internalteachers': ['613f0fd8024f5ec83cd64328', '613f0fd8024f5ec83cd64332'],\n",
       "  'externalteachers': [],\n",
       "  'internalexaminer': '613f0fd8024f5ec83cd64325',\n",
       "  'begindate': {'$date': '2021-08-29T22:00:00Z'},\n",
       "  'enddate': {'$date': '2022-01-15T23:00:00Z'},\n",
       "  'description': 'Course Credit: 10 hp\\r\\nCourse Code: 1MD010',\n",
       "  'createdAt': {'$date': '2022-02-17T14:51:22.923Z'},\n",
       "  'updatedAt': {'$date': '2022-02-17T16:04:56.742Z'},\n",
       "  '__v': 0},\n",
       " {'_id': {'$oid': '620e73ec28f0159695ab6e68'},\n",
       "  'title': 'Computer-Assisted Image Analysis I',\n",
       "  'type': 'master',\n",
       "  'maininternalteachers': ['613f0fd8024f5ec83cd6431d'],\n",
       "  'mainexternalteachers': [],\n",
       "  'internalteachers': ['615e01216aa5dcffb5ded46d',\n",
       "   '613f0fd8024f5ec83cd6431a',\n",
       "   '615e01e5c9c984a6ec1e53d7'],\n",
       "  'externalteachers': [],\n",
       "  'internalexaminer': 'undefined',\n",
       "  'begindate': {'$date': '2021-10-28T00:00:00Z'},\n",
       "  'enddate': {'$date': '2022-01-15T23:00:00Z'},\n",
       "  'description': 'Course Credit: 5 hp\\r\\nCourse Code: 1TD396',\n",
       "  'createdAt': {'$date': '2022-02-17T16:12:28.308Z'},\n",
       "  'updatedAt': {'$date': '2022-02-21T13:51:15.074Z'},\n",
       "  '__v': 0},\n",
       " {'_id': {'$oid': '6213973128f0159695ab6e89'},\n",
       "  'title': 'Digital Imaging Systems',\n",
       "  'type': 'master',\n",
       "  'maininternalteachers': ['613f0fd8024f5ec83cd64322'],\n",
       "  'mainexternalteachers': [],\n",
       "  'internalteachers': ['613f0fd8024f5ec83cd64318'],\n",
       "  'externalteachers': [],\n",
       "  'internalexaminer': '613f0fd8024f5ec83cd64322',\n",
       "  'begindate': {'$date': '2021-01-17T23:00:00Z'},\n",
       "  'enddate': {'$date': '2021-03-21T23:00:00Z'},\n",
       "  'createdAt': {'$date': '2022-02-21T13:44:17.605Z'},\n",
       "  'updatedAt': {'$date': '2022-02-21T13:45:22.809Z'},\n",
       "  '__v': 0,\n",
       "  'description': 'Course Credit: 7.5 hp Course Code: 1MD130\\r\\n'},\n",
       " {'_id': {'$oid': '621e923df951e1686cbd03cc'},\n",
       "  'title': 'Advanced Visual Interfaces',\n",
       "  'type': 'master',\n",
       "  'maininternalteachers': ['613f0fd8024f5ec83cd64321'],\n",
       "  'mainexternalteachers': [],\n",
       "  'internalteachers': [],\n",
       "  'externalteachers': [],\n",
       "  'internalexaminer': 'undefined',\n",
       "  'begindate': {'$date': '2021-03-23T00:00:00Z'},\n",
       "  'enddate': {'$date': '2021-06-06T00:00:00Z'},\n",
       "  'description': 'Course Credit: 5 hp\\r\\nCourse Code: 1MD020',\n",
       "  'createdAt': {'$date': '2022-03-01T21:38:05.926Z'},\n",
       "  'updatedAt': {'$date': '2022-03-01T21:38:48.333Z'},\n",
       "  '__v': 0},\n",
       " {'_id': {'$oid': '621e937af951e1686cbd0440'},\n",
       "  'title': 'Project in Software Development in Image Analysis and Machine Learning',\n",
       "  'type': 'master',\n",
       "  'maininternalteachers': ['613f0fd8024f5ec83cd6431b',\n",
       "   '613f0fd8024f5ec83cd64322'],\n",
       "  'mainexternalteachers': [],\n",
       "  'internalteachers': [],\n",
       "  'externalteachers': [],\n",
       "  'internalexaminer': '613f0fd8024f5ec83cd6431b',\n",
       "  'begindate': {'$date': '2021-08-29T22:00:00Z'},\n",
       "  'enddate': {'$date': '2022-01-15T23:00:00Z'},\n",
       "  'description': 'Course Credit: 15 hp\\r\\nCourse Code: 1MD036\\r\\nCheck the examiner ',\n",
       "  'createdAt': {'$date': '2022-03-01T21:43:22.984Z'},\n",
       "  'updatedAt': {'$date': '2022-03-01T21:43:22.984Z'},\n",
       "  '__v': 0},\n",
       " {'_id': {'$oid': '621e94a7f951e1686cbd0454'},\n",
       "  'title': 'Deep Learning for Image Analysis',\n",
       "  'type': 'master',\n",
       "  'maininternalteachers': ['613f0fd8024f5ec83cd64319'],\n",
       "  'mainexternalteachers': [],\n",
       "  'internalteachers': ['613f0fd8024f5ec83cd64328',\n",
       "   '615e016cc9c984a6ec1e53d1',\n",
       "   '613f0fd8024f5ec83cd64332'],\n",
       "  'externalteachers': [],\n",
       "  'internalexaminer': '613f0fd8024f5ec83cd64319',\n",
       "  'begindate': {'$date': '2021-03-23T00:00:00Z'},\n",
       "  'enddate': {'$date': '2021-06-06T00:00:00Z'},\n",
       "  'description': 'Course Credit: 7.5 hp\\r\\nCourse Code: 1MD120',\n",
       "  'createdAt': {'$date': '2022-03-01T21:48:23.955Z'},\n",
       "  'updatedAt': {'$date': '2022-03-01T21:48:23.955Z'},\n",
       "  '__v': 0},\n",
       " {'_id': {'$oid': '6242fe9c79d671028e07053e'},\n",
       "  'title': 'Popular scientific presentation with focus on writing',\n",
       "  'type': 'null',\n",
       "  'maininternalteachers': ['613f0fd8024f5ec83cd6432d',\n",
       "   '613f0fd8024f5ec83cd64322'],\n",
       "  'mainexternalteachers': [],\n",
       "  'internalteachers': [],\n",
       "  'externalteachers': ['Maria Gunther, Dagens Nyheter'],\n",
       "  'internalexaminer': '613f0fd8024f5ec83cd64322',\n",
       "  'begindate': {'$date': '2021-10-13T00:00:00Z'},\n",
       "  'enddate': {'$date': '2022-04-30T00:00:00Z'},\n",
       "  'description': 'In addition to lectures, the students will work on writing and presenting research from others at IT Dept. and in the end their own research. The goal is to get a scientific article published in the student’s hometown/local newspaper and/or to present in schools, or to general public at the library, and on YouTube. ',\n",
       "  'createdAt': {'$date': '2022-03-29T12:42:04.06Z'},\n",
       "  'updatedAt': {'$date': '2022-03-29T12:42:04.06Z'},\n",
       "  '__v': 0}]"
      ]
     },
     "execution_count": 51,
     "metadata": {},
     "output_type": "execute_result"
    }
   ],
   "source": []
  },
  {
   "cell_type": "code",
   "execution_count": 15,
   "metadata": {},
   "outputs": [
    {
     "data": {
      "text/plain": [
       "int"
      ]
     },
     "execution_count": 15,
     "metadata": {},
     "output_type": "execute_result"
    }
   ],
   "source": [
    "date_time_obj = datetime.strptime(myhedgehog.projects[0][\"begindate\"]['$date'],dateregex)\n",
    "type(date_time_obj.year)"
   ]
  },
  {
   "cell_type": "code",
   "execution_count": null,
   "metadata": {},
   "outputs": [],
   "source": []
  }
 ],
 "metadata": {
  "kernelspec": {
   "display_name": "Python 3",
   "language": "python",
   "name": "python3"
  },
  "language_info": {
   "codemirror_mode": {
    "name": "ipython",
    "version": 3
   },
   "file_extension": ".py",
   "mimetype": "text/x-python",
   "name": "python",
   "nbconvert_exporter": "python",
   "pygments_lexer": "ipython3",
   "version": "3.7.4"
  }
 },
 "nbformat": 4,
 "nbformat_minor": 5
}
