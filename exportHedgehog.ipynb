{
 "cells": [
  {
   "cell_type": "code",
   "execution_count": 140,
   "id": "2a6ef1df",
   "metadata": {},
   "outputs": [],
   "source": [
    "import json\n",
    "import numpy as np\n",
    "import pandas as pd\n",
    "import hedgehog as hg\n",
    "import importlib\n",
    "from datetime import datetime\n",
    "importlib.reload(hg);\n"
   ]
  },
  {
   "cell_type": "markdown",
   "id": "eeed7349",
   "metadata": {},
   "source": [
    "# Choose the year, important!!"
   ]
  },
  {
   "cell_type": "code",
   "execution_count": 141,
   "id": "a1441af3",
   "metadata": {},
   "outputs": [],
   "source": [
    "# Type the location of the json files exported from mongoexport\n",
    "myhedgehog=hg.Hedgehog(\"/home/leslie/Documents/\")\n",
    "# CHOOSE A YEAR!!!\n",
    "myhedgehog.year=2020"
   ]
  },
  {
   "cell_type": "code",
   "execution_count": 142,
   "id": "44130565-21d5-4800-9bc2-dcf90afc2fdb",
   "metadata": {},
   "outputs": [],
   "source": [
    "def findAndLenGtZero(astring,adict):\n",
    "    if astring in adict:\n",
    "        if len(adict[astring])>0:\n",
    "            return True\n",
    "    return False"
   ]
  },
  {
   "cell_type": "code",
   "execution_count": 143,
   "id": "6c89ddc4-0937-4096-a947-5b9b634056ec",
   "metadata": {},
   "outputs": [
    {
     "name": "stdout",
     "output_type": "stream",
     "text": [
      "The year is2020\n",
      "there were 1 problems.\n"
     ]
    },
    {
     "data": {
      "text/plain": [
       "{'_id': {'$oid': '620e5e4328f0159695ab6c35'},\n",
       " 'title': 'Medical Informatics',\n",
       " 'type': 'master',\n",
       " 'maininternalteachers': ['613f0fd8024f5ec83cd6431d'],\n",
       " 'mainexternalteachers': [],\n",
       " 'internalteachers': ['613f0fd8024f5ec83cd6431c'],\n",
       " 'externalteachers': ['Gustaf Hedström, Andreas Thor, Tomas Bjerner, Martin Scott, Lennart Thurfjell, Arne Pettersson'],\n",
       " 'internalexaminer': '613f0fd8024f5ec83cd6431d',\n",
       " 'begindate': {'$date': '2020-08-31T00:00:00Z'},\n",
       " 'enddate': {'$date': '2020-10-25T00:00:00Z'},\n",
       " 'description': 'Course Credit: 5 hp\\r\\nCourse Code: 1MD030',\n",
       " 'createdAt': {'$date': '2022-02-17T14:40:03.917Z'},\n",
       " 'updatedAt': {'$date': '2022-03-07T14:29:28.517Z'},\n",
       " '__v': 0}"
      ]
     },
     "execution_count": 143,
     "metadata": {},
     "output_type": "execute_result"
    }
   ],
   "source": [
    "myhedgehog.findAllForYear()\n",
    "elem=myhedgehog.courses[myhedgehog.courses_valid_indices[0]]\n",
    "elem"
   ]
  },
  {
   "cell_type": "code",
   "execution_count": null,
   "id": "b57a0d55-222b-452e-86cc-583ac5639a83",
   "metadata": {},
   "outputs": [],
   "source": []
  },
  {
   "cell_type": "code",
   "execution_count": 144,
   "id": "388c747e-4550-4f7b-8138-aff8f3cb8098",
   "metadata": {
    "tags": []
   },
   "outputs": [],
   "source": [
    "myhedgehog.printCourse(0)"
   ]
  },
  {
   "cell_type": "code",
   "execution_count": 132,
   "id": "51bed064-d8bd-4dda-a148-011dd52bcc64",
   "metadata": {},
   "outputs": [],
   "source": [
    "with open('text.tex', 'w', encoding='utf-8') as f:\n",
    "    f.write(myhedgehog.printActivity(myhedgehog.activities_valid_indices[0]))"
   ]
  },
  {
   "cell_type": "code",
   "execution_count": 113,
   "id": "81828b27-b9bc-4c6e-a163-c92be0226a62",
   "metadata": {},
   "outputs": [
    {
     "data": {
      "text/plain": [
       "{'_id': {'$oid': '61410276490a697e7d04bb46'},\n",
       " 'title': 'Segmentation of Neurons',\n",
       " 'tags': ['Cell biology', 'Light microscopy'],\n",
       " 'people': ['613f0fd8024f5ec83cd64320', '613d2d12813a0b1c65cb28ab'],\n",
       " 'external': [{'name': 'Niklas Dahl',\n",
       "   'institution': 'Dept of Immunology, Genetics and Pathology, UU',\n",
       "   'country': 'Sweden',\n",
       "   'city': 'Uppsala',\n",
       "   'coordinates': {'type': 'Point',\n",
       "    'coordinates': [59.83969, 17.6467],\n",
       "    '_id': {'$oid': '61410276490a697e7d04bb49'}},\n",
       "   '_id': {'$oid': '61410276490a697e7d04bb48'}},\n",
       "  {'name': 'Loora Laan',\n",
       "   'institution': 'Dept of Immunology, Genetics and Pathology, UU',\n",
       "   'country': 'Sweden',\n",
       "   'city': 'Uppsala',\n",
       "   'coordinates': {'type': 'Point',\n",
       "    'coordinates': [59.83969, 17.6467],\n",
       "    '_id': {'$oid': '61410276490a697e7d04bb4c'}},\n",
       "   '_id': {'$oid': '61410276490a697e7d04bb4b'}},\n",
       "  {'name': 'Jens Schuster',\n",
       "   'institution': 'Dept of Immunology, Genetics and Pathology, UU',\n",
       "   'country': 'Sweden',\n",
       "   'city': 'Uppsala',\n",
       "   'coordinates': {'type': 'Point',\n",
       "    'coordinates': [59.83969, 17.6467],\n",
       "    '_id': {'$oid': '61410276490a697e7d04bb4f'}},\n",
       "   '_id': {'$oid': '61410276490a697e7d04bb4e'}}],\n",
       " 'begindate': {'$date': '2014-02-01T00:00:00Z'},\n",
       " 'enddate': {'$date': '2016-12-05T00:00:00Z'},\n",
       " 'funding': 'SciLifeLab BioImage Informatics Facility',\n",
       " 'description': 'The goal of this project is to analyze neurons grown from stem cells in vitro. The aim is to assess the percentage of neurons (using B-tubulin) and certain neuron subtypes(GABA) by immunofluorescence. We used CellProfiler to segment the cells and CellProfiler Analyst to classify positivec ells',\n",
       " 'comments': '',\n",
       " 'images': [],\n",
       " 'createdAt': {'$date': '2021-09-14T20:13:43.002Z'},\n",
       " 'updatedAt': {'$date': '2021-09-15T09:40:51.463Z'},\n",
       " '__v': 0}"
      ]
     },
     "execution_count": 113,
     "metadata": {},
     "output_type": "execute_result"
    }
   ],
   "source": [
    "myhedgehog.projects[0]"
   ]
  },
  {
   "cell_type": "code",
   "execution_count": 73,
   "id": "25f23f43-28dd-4291-88c8-aa27f2f65c42",
   "metadata": {},
   "outputs": [
    {
     "name": "stdout",
     "output_type": "stream",
     "text": [
      "{'_id': {'$oid': '620d1472aaa101329c0e3a43'}, 'type': 'cbaseminar(externalspeaker)', 'title': 'Visualizing the Black Box in Machine Learning', 'internal': ['613f0fd8024f5ec83cd6431d'], 'begindate': {'$date': '2020-03-08T23:00:00Z'}, 'enddate': {'$date': '2020-03-08T23:00:00Z'}, 'comment': 'null', 'images': [], 'external': [{'name': 'Alexandru C. Telea', 'affiliation': 'Utrecht University', 'country': 'The Netherlands', 'city': 'Utrecht ', '_id': {'$oid': '620d1472aaa101329c0e3a44'}}], 'createdAt': {'$date': '2022-02-16T15:12:50.174Z'}, 'updatedAt': {'$date': '2022-02-16T15:12:50.174Z'}, '__v': 0}\n",
      "{'_id': {'$oid': '621dff84f951e1686cbd01d0'}, 'type': 'cbaseminar(externalspeaker)', 'title': 'Pathologist-level prostate cancer diagnostics using deep learning', 'internal': [], 'begindate': {'$date': '2020-02-10T00:00:00Z'}, 'enddate': {'$date': '2020-02-10T00:00:00Z'}, 'images': [], 'external': [{'name': 'Kimmo Kartasalo', 'affiliation': 'Karolinska Institutet', 'country': 'Sweden', 'city': 'Stockholm', '_id': {'$oid': '621dff84f951e1686cbd01d1'}}], 'createdAt': {'$date': '2022-03-01T11:12:04.581Z'}, 'updatedAt': {'$date': '2022-03-01T11:12:04.581Z'}, '__v': 0}\n",
      "{'_id': {'$oid': '621e1438f951e1686cbd01d7'}, 'type': 'cbaseminar(externalspeaker)', 'title': 'Visualizing the Black Box in Machine Learning', 'internal': [], 'begindate': {'$date': '2020-03-09T00:00:00Z'}, 'enddate': {'$date': '2020-03-09T00:00:00Z'}, 'images': [], 'external': [{'name': 'Alexandru C. Telea ', 'affiliation': 'Dept. of Information and Computing Sciences, Utrecht University', 'country': 'The Netherlands', 'city': 'Utrecht', '_id': {'$oid': '621e1438f951e1686cbd01d8'}}], 'createdAt': {'$date': '2022-03-01T12:40:24.261Z'}, 'updatedAt': {'$date': '2022-03-01T12:40:24.261Z'}, '__v': 0}\n",
      "{'_id': {'$oid': '621e152df951e1686cbd01de'}, 'type': 'cbaseminar(externalspeaker)', 'title': 'Spatial and structural changes in the mucosal tissue barrier - implications for HIV susceptibility', 'internal': [], 'begindate': {'$date': '2020-04-27T00:00:00Z'}, 'enddate': {'$date': '2020-04-27T00:00:00Z'}, 'images': [], 'external': [{'name': 'Gabriella Edfeldt', 'affiliation': 'Department of Medicine Solna, Center for Molecular Medicine, Karolinska Institutet, Karolinska University Hospital Solna', 'country': 'Sweden', 'city': 'Stockholm', '_id': {'$oid': '621e152df951e1686cbd01df'}}], 'createdAt': {'$date': '2022-03-01T12:44:29.411Z'}, 'updatedAt': {'$date': '2022-03-01T12:44:29.411Z'}, '__v': 0}\n",
      "{'_id': {'$oid': '621e163cf951e1686cbd01ea'}, 'type': 'cbaseminar(externalspeaker)', 'title': 'What’s in an image? Are there things we cannot see but others can? ', 'internal': [], 'begindate': {'$date': '2020-05-04T00:00:00Z'}, 'enddate': {'$date': '2020-05-04T00:00:00Z'}, 'images': [], 'external': [{'name': 'Lars Oestreicher', 'affiliation': ' Dept. of Information Technology, UU', 'country': 'Sweden', 'city': 'Uppsala', '_id': {'$oid': '621e163cf951e1686cbd01eb'}}], 'createdAt': {'$date': '2022-03-01T12:49:00.585Z'}, 'updatedAt': {'$date': '2022-03-01T12:49:00.585Z'}, '__v': 0}\n",
      "{'_id': {'$oid': '621e1bcaf951e1686cbd0219'}, 'type': 'cbaseminar(externalspeaker)', 'title': 'Point-of-care diagnostics with digital microscopy and image-based artificial intelligence', 'internal': [], 'begindate': {'$date': '2020-11-16T00:00:00Z'}, 'enddate': {'$date': '2020-11-16T00:00:00Z'}, 'images': [], 'external': [{'name': 'Oscar Holmström', 'affiliation': 'University of Helsinki', 'country': 'Finland', 'city': 'Helsinki', '_id': {'$oid': '621e1bcaf951e1686cbd021a'}}], 'createdAt': {'$date': '2022-03-01T13:12:42.31Z'}, 'updatedAt': {'$date': '2022-03-01T13:12:42.31Z'}, '__v': 0}\n",
      "{'_id': {'$oid': '621e1d09f951e1686cbd0225'}, 'type': 'cbaseminar(externalspeaker)', 'title': 'Investigating Substantia Nigra Damage and Iron Accumulation in REM Sleep Disorder and Parkinson’s Disease Patients using MRI', 'internal': [], 'begindate': {'$date': '2020-11-30T00:00:00Z'}, 'enddate': {'$date': '2020-11-30T00:00:00Z'}, 'images': [], 'external': [{'name': 'Rahul Gaurav', 'affiliation': 'Center for NeuroImaging Research (CENIR), the Paris Brain Institute (ICM - Institut du Cerveau)', 'country': 'France', 'city': 'Paris', '_id': {'$oid': '621e1d09f951e1686cbd0226'}}], 'createdAt': {'$date': '2022-03-01T13:18:01.727Z'}, 'updatedAt': {'$date': '2022-03-01T13:18:01.727Z'}, '__v': 0}\n",
      "{'_id': {'$oid': '621e1eebf951e1686cbd0231'}, 'type': 'cbaseminar(externalspeaker)', 'title': 'Deep Learning in Simulated Training of Ultrasound Imaging', 'internal': [], 'begindate': {'$date': '2021-01-25T00:00:00Z'}, 'enddate': {'$date': '2021-01-25T00:00:00Z'}, 'images': [], 'external': [{'name': 'Lin Zhang', 'affiliation': 'ETH Zurich', 'country': 'Switzerland', 'city': 'Zurich', '_id': {'$oid': '621e1f8af951e1686cbd024b'}}], 'createdAt': {'$date': '2022-03-01T13:26:03.997Z'}, 'updatedAt': {'$date': '2022-03-01T13:28:42.293Z'}, '__v': 0, 'comment': 'undefined'}\n",
      "{'_id': {'$oid': '621e1f56f951e1686cbd0238'}, 'type': 'cbaseminar(externalspeaker)', 'title': 'Computational Modeling and Simulation of the Shoulder for Functional Analysis of Orthopedic Surgery Outcomes', 'internal': [], 'begindate': {'$date': '2021-02-08T00:00:00Z'}, 'enddate': {'$date': '2021-02-08T00:00:00Z'}, 'images': [], 'external': [{'name': 'Fabien Pean', 'affiliation': 'ETH Zurich', 'country': 'Switzerland', 'city': 'Zurich', '_id': {'$oid': '621e1f56f951e1686cbd0239'}}], 'createdAt': {'$date': '2022-03-01T13:27:50.432Z'}, 'updatedAt': {'$date': '2022-03-01T13:27:50.432Z'}, '__v': 0}\n",
      "{'_id': {'$oid': '621e1fd8f951e1686cbd0252'}, 'type': 'cbaseminar(externalspeaker)', 'title': 'Deep 3D Texture Synthesis from 2D Exemplars for Natural Images and Beyond', 'internal': [], 'begindate': {'$date': '2021-02-22T00:00:00Z'}, 'enddate': {'$date': '2021-02-22T00:00:00Z'}, 'images': [], 'external': [{'name': 'Tiziano Portenier', 'affiliation': 'ETH Zurich', 'country': 'Switzerland', 'city': 'Zurich', '_id': {'$oid': '621e1fd8f951e1686cbd0253'}}], 'createdAt': {'$date': '2022-03-01T13:30:00.536Z'}, 'updatedAt': {'$date': '2022-03-01T13:30:00.536Z'}, '__v': 0}\n",
      "{'_id': {'$oid': '621e20bff951e1686cbd0260'}, 'type': 'cbaseminar(externalspeaker)', 'title': 'Graph representation learning & explainability in computational pathology', 'internal': [], 'begindate': {'$date': '2021-04-19T00:00:00Z'}, 'enddate': {'$date': '2021-04-19T00:00:00Z'}, 'images': [], 'external': [{'name': 'Pushpak Pati ', 'affiliation': 'ETH Zurich', 'country': 'Switzerland', 'city': 'Zurich', '_id': {'$oid': '621e20bff951e1686cbd0261'}}], 'createdAt': {'$date': '2022-03-01T13:33:51.479Z'}, 'updatedAt': {'$date': '2022-03-01T13:33:51.479Z'}, '__v': 0}\n",
      "{'_id': {'$oid': '621e2107f951e1686cbd0267'}, 'type': 'cbaseminar(externalspeaker)', 'title': 'Quantitative Fluorescence Microscopy with Marker-Efficient and Uncertainty-Aware Segmentation and Detection Using Deep Learning', 'internal': [], 'begindate': {'$date': '2021-05-03T00:00:00Z'}, 'enddate': {'$date': '2021-05-03T00:00:00Z'}, 'images': [], 'external': [{'name': 'Alvaro Gomariz', 'affiliation': 'ETH Zurich', 'country': 'Switzerland', 'city': 'Zurich', '_id': {'$oid': '621e2107f951e1686cbd0268'}}], 'createdAt': {'$date': '2022-03-01T13:35:03.131Z'}, 'updatedAt': {'$date': '2022-03-01T13:35:03.131Z'}, '__v': 0}\n",
      "{'_id': {'$oid': '621e2191f951e1686cbd026e'}, 'type': 'cbaseminar(externalspeaker)', 'title': 'Quantitative Digital Microscopy with Deep Learning', 'internal': [], 'begindate': {'$date': '2021-05-17T00:00:00Z'}, 'enddate': {'$date': '2021-05-17T00:00:00Z'}, 'images': [], 'external': [{'name': 'Giovanni Volpe', 'affiliation': 'Dept. of Physics, University of Gothenburg', 'country': 'Sweden', 'city': 'Göteborg', '_id': {'$oid': '621e2191f951e1686cbd026f'}}], 'createdAt': {'$date': '2022-03-01T13:37:21.708Z'}, 'updatedAt': {'$date': '2022-03-01T13:37:21.708Z'}, '__v': 0}\n",
      "{'_id': {'$oid': '621e221ef951e1686cbd0275'}, 'type': 'cbaseminar(externalspeaker)', 'title': 'Characterization of cardiomyocyte contraction – an image analysis approach', 'internal': [], 'begindate': {'$date': '2021-06-07T00:00:00Z'}, 'enddate': {'$date': '2021-06-07T00:00:00Z'}, 'images': [], 'external': [{'name': 'Antti Ahola', 'affiliation': 'Tampere University', 'country': 'Finland', 'city': 'Tampere', '_id': {'$oid': '621e221ef951e1686cbd0276'}}], 'createdAt': {'$date': '2022-03-01T13:39:42.121Z'}, 'updatedAt': {'$date': '2022-03-01T13:39:42.121Z'}, '__v': 0}\n",
      "{'_id': {'$oid': '62388b6779d671028e06ff0f'}, 'type': 'cbaseminar(externalspeaker)', 'title': 'The Work from home movement app: Do you think that you are moving more or less since you began working from home?', 'internal': [], 'begindate': {'$date': '2021-02-16T23:00:00Z'}, 'enddate': {'$date': '2021-02-16T23:00:00Z'}, 'images': [], 'external': [{'name': 'Alexandra Weilenman', 'affiliation': 'University of Gothenburg', 'country': 'Sweden', 'city': 'Göteborg', '_id': {'$oid': '62388b6779d671028e06ff10'}}], 'createdAt': {'$date': '2022-03-21T14:27:51.252Z'}, 'updatedAt': {'$date': '2022-03-21T14:27:51.252Z'}, '__v': 0}\n"
     ]
    }
   ],
   "source": [
    "for i in range(len(myhedgehog.activities)):\n",
    "    a=myhedgehog.activities[i]\n",
    "    if \"external\" in a:\n",
    "        if len(a[\"external\"])>0:\n",
    "            print(myhedgehog.activities[i])\n",
    "            pass"
   ]
  },
  {
   "cell_type": "code",
   "execution_count": 79,
   "id": "51a503a1-29c4-4e58-b902-ef620bb01dda",
   "metadata": {},
   "outputs": [
    {
     "ename": "ValueError",
     "evalue": "time data '2022-03-21T14:27:51.252Z' does not match format '%Y-%m-%dT%H:%M:%SZ'",
     "output_type": "error",
     "traceback": [
      "\u001b[0;31m---------------------------------------------------------------------------\u001b[0m",
      "\u001b[0;31mValueError\u001b[0m                                Traceback (most recent call last)",
      "\u001b[0;32m/tmp/ipykernel_504257/392870990.py\u001b[0m in \u001b[0;36m<module>\u001b[0;34m\u001b[0m\n\u001b[1;32m      1\u001b[0m \u001b[0mdateregex\u001b[0m\u001b[0;34m=\u001b[0m\u001b[0;34m\"%Y-%m-%dT%H:%M:%SZ\"\u001b[0m\u001b[0;34m\u001b[0m\u001b[0;34m\u001b[0m\u001b[0m\n\u001b[1;32m      2\u001b[0m \u001b[0;34m\u001b[0m\u001b[0m\n\u001b[0;32m----> 3\u001b[0;31m \u001b[0mdatetime\u001b[0m\u001b[0;34m.\u001b[0m\u001b[0mstrptime\u001b[0m\u001b[0;34m(\u001b[0m\u001b[0;34m'2022-03-21T14:27:51.252Z'\u001b[0m\u001b[0;34m,\u001b[0m\u001b[0mdateregex\u001b[0m\u001b[0;34m)\u001b[0m\u001b[0;34m.\u001b[0m\u001b[0myear\u001b[0m\u001b[0;34m\u001b[0m\u001b[0;34m\u001b[0m\u001b[0m\n\u001b[0m",
      "\u001b[0;32m~/anaconda3/lib/python3.9/_strptime.py\u001b[0m in \u001b[0;36m_strptime_datetime\u001b[0;34m(cls, data_string, format)\u001b[0m\n\u001b[1;32m    566\u001b[0m     \"\"\"Return a class cls instance based on the input string and the\n\u001b[1;32m    567\u001b[0m     format string.\"\"\"\n\u001b[0;32m--> 568\u001b[0;31m     \u001b[0mtt\u001b[0m\u001b[0;34m,\u001b[0m \u001b[0mfraction\u001b[0m\u001b[0;34m,\u001b[0m \u001b[0mgmtoff_fraction\u001b[0m \u001b[0;34m=\u001b[0m \u001b[0m_strptime\u001b[0m\u001b[0;34m(\u001b[0m\u001b[0mdata_string\u001b[0m\u001b[0;34m,\u001b[0m \u001b[0mformat\u001b[0m\u001b[0;34m)\u001b[0m\u001b[0;34m\u001b[0m\u001b[0;34m\u001b[0m\u001b[0m\n\u001b[0m\u001b[1;32m    569\u001b[0m     \u001b[0mtzname\u001b[0m\u001b[0;34m,\u001b[0m \u001b[0mgmtoff\u001b[0m \u001b[0;34m=\u001b[0m \u001b[0mtt\u001b[0m\u001b[0;34m[\u001b[0m\u001b[0;34m-\u001b[0m\u001b[0;36m2\u001b[0m\u001b[0;34m:\u001b[0m\u001b[0;34m]\u001b[0m\u001b[0;34m\u001b[0m\u001b[0;34m\u001b[0m\u001b[0m\n\u001b[1;32m    570\u001b[0m     \u001b[0margs\u001b[0m \u001b[0;34m=\u001b[0m \u001b[0mtt\u001b[0m\u001b[0;34m[\u001b[0m\u001b[0;34m:\u001b[0m\u001b[0;36m6\u001b[0m\u001b[0;34m]\u001b[0m \u001b[0;34m+\u001b[0m \u001b[0;34m(\u001b[0m\u001b[0mfraction\u001b[0m\u001b[0;34m,\u001b[0m\u001b[0;34m)\u001b[0m\u001b[0;34m\u001b[0m\u001b[0;34m\u001b[0m\u001b[0m\n",
      "\u001b[0;32m~/anaconda3/lib/python3.9/_strptime.py\u001b[0m in \u001b[0;36m_strptime\u001b[0;34m(data_string, format)\u001b[0m\n\u001b[1;32m    347\u001b[0m     \u001b[0mfound\u001b[0m \u001b[0;34m=\u001b[0m \u001b[0mformat_regex\u001b[0m\u001b[0;34m.\u001b[0m\u001b[0mmatch\u001b[0m\u001b[0;34m(\u001b[0m\u001b[0mdata_string\u001b[0m\u001b[0;34m)\u001b[0m\u001b[0;34m\u001b[0m\u001b[0;34m\u001b[0m\u001b[0m\n\u001b[1;32m    348\u001b[0m     \u001b[0;32mif\u001b[0m \u001b[0;32mnot\u001b[0m \u001b[0mfound\u001b[0m\u001b[0;34m:\u001b[0m\u001b[0;34m\u001b[0m\u001b[0;34m\u001b[0m\u001b[0m\n\u001b[0;32m--> 349\u001b[0;31m         raise ValueError(\"time data %r does not match format %r\" %\n\u001b[0m\u001b[1;32m    350\u001b[0m                          (data_string, format))\n\u001b[1;32m    351\u001b[0m     \u001b[0;32mif\u001b[0m \u001b[0mlen\u001b[0m\u001b[0;34m(\u001b[0m\u001b[0mdata_string\u001b[0m\u001b[0;34m)\u001b[0m \u001b[0;34m!=\u001b[0m \u001b[0mfound\u001b[0m\u001b[0;34m.\u001b[0m\u001b[0mend\u001b[0m\u001b[0;34m(\u001b[0m\u001b[0;34m)\u001b[0m\u001b[0;34m:\u001b[0m\u001b[0;34m\u001b[0m\u001b[0;34m\u001b[0m\u001b[0m\n",
      "\u001b[0;31mValueError\u001b[0m: time data '2022-03-21T14:27:51.252Z' does not match format '%Y-%m-%dT%H:%M:%SZ'"
     ]
    }
   ],
   "source": [
    "dateregex=\"%Y-%m-%dT%H:%M:%SZ\"\n",
    "\n",
    "datetime.strptime('2022-03-21T14:27:51.252Z',dateregex).year"
   ]
  },
  {
   "cell_type": "code",
   "execution_count": null,
   "id": "5b9353b9-f6d5-40c8-a031-92523ada0c73",
   "metadata": {},
   "outputs": [],
   "source": []
  },
  {
   "cell_type": "markdown",
   "id": "5889078b",
   "metadata": {
    "tags": []
   },
   "source": [
    "## Now I will go through all the projects, activities, theses and courses\n",
    "and leave only those of the relevant year"
   ]
  },
  {
   "cell_type": "code",
   "execution_count": 123,
   "id": "526e5f29",
   "metadata": {},
   "outputs": [
    {
     "name": "stdout",
     "output_type": "stream",
     "text": [
      "The year is2020\n",
      "there were 1 problems.\n",
      "could not parse projects:\n",
      "\n",
      "{'_id': {'$oid': '615e13868738dae1ee92b6a8'}, 'title': '#70. 2019.P1. Complex Convexity', 'tags': ['Complex geometry', ' convexity', ' lineal convexity', ' weak lineal convexity.', 'Mathematical and Geometrical Theory'], 'people': ['613f0fd8024f5ec83cd64330'], 'external': [], 'begindate': {'$date': {'$numberLong': '-71107200000'}}, 'funding': 'Universit&etilde; de Nice 1967-10-01 --- 1968-09-30; Uppsala University 1968-10-01 --- 2006-04-30; Kingdom of Sweden 2006-05-01 --- . ', 'description': '     A bounded open set with boundary of class $C^1$ which is locally weakly lineally convex is weakly lineally convex, but, as shown by Yurii Zelinskii, this is not true for unbounded domains.  We construct explicit examples, Hartogs domains, showing this.  Their boundary can have regularity  $C^{1,1}$ or $C^infty$.  Obstructions to constructing smoothly bounded domains with certain homogeneity properties are presented.  A current activity is a study of one-sided regularity of subsets of $mathbf{R}^n$ or $mathbf{C}^n$.  Preliminary results on this kind of regularity were presented at a conference on 2015 September 16.       rnrnThere are several publications in this project. The latest publication appeared online in July 2019, in print in October 2019  (19-1).   rnrnAdvisors: Jan Boman, Ragnar Sigurdsson, Mats Andersson.     ', 'comments': '', 'images': []}\n",
      "myhedgehog.activities_valid_indices\n",
      "[5, 8, 14, 15, 16, 20, 21, 22, 23, 24, 25, 26, 27, 28, 29, 30, 31, 32, 33, 34, 35, 36, 45, 46, 49, 50, 51, 52, 53, 54, 55, 56, 57, 58, 59, 60, 61, 70, 71, 94, 95, 96, 97, 98, 99, 100, 112]\n",
      "myhedgehog.courses_valid_indices\n",
      "[0, 4, 5, 6, 7, 8]\n",
      "myhedgehog.projects_valid_indices\n",
      "[1, 133]\n",
      "myhedgehog.theses_valid_indices\n",
      "[2, 3, 4, 6, 7, 8]\n"
     ]
    }
   ],
   "source": [
    "myhedgehog.findAllForYear()\n",
    "\n",
    "print(\"myhedgehog.activities_valid_indices\")\n",
    "print(myhedgehog.activities_valid_indices)\n",
    "\n",
    "print(\"myhedgehog.courses_valid_indices\")\n",
    "print(myhedgehog.courses_valid_indices)\n",
    "\n",
    "print(\"myhedgehog.projects_valid_indices\")\n",
    "print(myhedgehog.projects_valid_indices)\n",
    "\n",
    "print(\"myhedgehog.theses_valid_indices\")\n",
    "print(myhedgehog.theses_valid_indices)"
   ]
  },
  {
   "cell_type": "code",
   "execution_count": 36,
   "id": "641ac6b8-ae21-41c8-9d6b-a016dfc55e93",
   "metadata": {},
   "outputs": [
    {
     "data": {
      "text/plain": [
       "{'_id': {'$oid': '615e13868738dae1ee92b698'},\n",
       " 'title': 'Quantification of lipid droplets in human pre-adipocyte',\n",
       " 'tags': ['Cell biology', ' Light microscopy', 'Microscopy', ' cell biology'],\n",
       " 'people': ['615e01216aa5dcffb5ded479',\n",
       "  '613f0fd8024f5ec83cd64320',\n",
       "  '613d2d12813a0b1c65cb28ab'],\n",
       " 'external': [],\n",
       " 'begindate': {'$date': '2016-03-11T00:00:00Z'},\n",
       " 'enddate': {'$date': '2017-10-01T00:00:00Z'},\n",
       " 'funding': 'SciLifeLab BioImage Informatics Facility (www.scilifelab.se/facilities/bioimage-informatics)',\n",
       " 'description': '      Adipocytes store lipids, predominantly triglycerides (TGs), in lipid droplets (LDs). Upon energy shortage, TGs are hydrolyzed into non-esterified fatty acids and glycerol in an enzymatic process termed lipolysis. LDs are highly dynamic and undergo fragmentation or fusion under lipolytic and lipogenic conditions, respectively. The aim of this project is to unravel the molecular mechanisms governing LD formation and investigate connections between LD morphology and lipolysis rate. We will perform a high throughput image analysis of TG (BODIPY)-stained adipocytes treated with siRNAs that target lipolysis regulating genes. Images will be acquired by an automated microphotography pipeline. Using the proposed image analysis, we aim to quantitatively measure the effects on LD morphology and lipolysis rate for each gene. The results from this screen are compared with clinical measures in our cross-sectional and prospective cohorts. This will constitute an invaluable resource for in-depth and hypothesis-driven analyses, which will improve our understanding of the mechanisms controlling human adipocyte lipolysis.       ',\n",
       " 'comments': '',\n",
       " 'images': []}"
      ]
     },
     "execution_count": 36,
     "metadata": {},
     "output_type": "execute_result"
    }
   ],
   "source": [
    "myhedgehog.projects[8]"
   ]
  }
 ],
 "metadata": {
  "kernelspec": {
   "display_name": "Python 3 (ipykernel)",
   "language": "python",
   "name": "python3"
  },
  "language_info": {
   "codemirror_mode": {
    "name": "ipython",
    "version": 3
   },
   "file_extension": ".py",
   "mimetype": "text/x-python",
   "name": "python",
   "nbconvert_exporter": "python",
   "pygments_lexer": "ipython3",
   "version": "3.9.7"
  }
 },
 "nbformat": 4,
 "nbformat_minor": 5
}
